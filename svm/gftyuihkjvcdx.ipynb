{
  "nbformat": 4,
  "nbformat_minor": 0,
  "metadata": {
    "colab": {
      "provenance": []
    },
    "kernelspec": {
      "name": "python3",
      "display_name": "Python 3"
    },
    "language_info": {
      "name": "python"
    }
  },
  "cells": [
    {
      "cell_type": "markdown",
      "source": [
        "# **ANN**"
      ],
      "metadata": {
        "id": "sIK7srzTtpWO"
      }
    },
    {
      "cell_type": "markdown",
      "source": [
        "Implement a flexible and robust neural network class in Python that supports\n",
        "various activation functions, customisable architectures, and efficient training. We\n",
        "are giving you a template that contains the signatures of the functions and class\n",
        "which you need to complete."
      ],
      "metadata": {
        "id": "sG3wUm5Itw43"
      }
    },
    {
      "cell_type": "markdown",
      "source": [
        "**Part 1: Function Specifications (Individual Components)**"
      ],
      "metadata": {
        "id": "oCkuE6ppt1Y3"
      }
    },
    {
      "cell_type": "code",
      "execution_count": null,
      "metadata": {
        "id": "LBThJMKesQtC"
      },
      "outputs": [],
      "source": [
        "# Part 1: Function Implementations\n",
        "import numpy as np\n",
        "\n",
        "def sigmoid(z):\n",
        "    return 1 / (1 + np.exp(-z))\n",
        "\n",
        "def sigmoid_derivative(z):\n",
        "    return sigmoid(z) * (1 - sigmoid(z))\n",
        "\n",
        "def relu(z):\n",
        "    return np.maximum(0,z)\n",
        "\n",
        "def relu_derivative(z):\n",
        "    return (z>0).astype(float)\n",
        "\n",
        "def linear(z):\n",
        "    return z\n",
        "\n",
        "def linear_derivative(z):\n",
        "    return 1\n",
        "\n",
        "def mean_squared_error(y_true, y_pred):\n",
        "    return np.mean((y_true - y_pred)**2)"
      ]
    },
    {
      "cell_type": "markdown",
      "source": [
        "**Part 2: NeuralNetwork Class Implementation**"
      ],
      "metadata": {
        "id": "NIKBbP_Ot_kz"
      }
    },
    {
      "cell_type": "code",
      "source": [
        "# Part 2: NeuralNetwork Class Implementation\n",
        "\n",
        "class NeuralNetwork:\n",
        "\n",
        "    def __init__(self, layers, activation='sigmoid'):\n",
        "        self.layers = layers\n",
        "        self.activation = activation\n",
        "        self.weights = []\n",
        "        self.biases = []\n",
        "\n",
        "        # Initialize weights and biases randomly\n",
        "        for i in range(len(layers) - 1):\n",
        "            self.weights.append(np.random.randn(layers[i], layers[i + 1]))\n",
        "            self.biases.append(np.random.randn(layers[i + 1]))\n",
        "\n",
        "    def forward(self, x):\n",
        "        \"\"\"\n",
        "        Performs forward propagation.\n",
        "\n",
        "        Args:\n",
        "            x (numpy.ndarray): Input data.\n",
        "\n",
        "        Returns:\n",
        "            tuple: (activations, z_values)\n",
        "                activations (list): Activations for each layer.\n",
        "                z_values (list): Weighted sums (z values).\n",
        "        \"\"\"\n",
        "        # YOUR CODE HERE\n",
        "        pass\n",
        "\n",
        "    def backward(self, x, y, activations, z_values, learning_rate):\n",
        "        \"\"\"\n",
        "        Performs backward propagation and updates weights/biases.\n",
        "\n",
        "        Args:\n",
        "            x (numpy.ndarray): Input data.\n",
        "            y (numpy.ndarray): Target data.\n",
        "            activations (list): Activations from forward pass.\n",
        "            z_values (list): Z values from forward pass.\n",
        "            learning_rate (float): Learning rate.\n",
        "        \"\"\"\n",
        "        # YOUR CODE HERE\n",
        "        pass\n",
        "\n",
        "    def train(self, x_train, y_train, epochs, learning_rate):\n",
        "        \"\"\"\n",
        "        Trains the neural network.\n",
        "\n",
        "        Args:\n",
        "            x_train (numpy.ndarray): Training input data.\n",
        "            y_train (numpy.ndarray): Training target data.\n",
        "            epochs (int): Number of training epochs.\n",
        "            learning_rate (float): Learning rate.\n",
        "        \"\"\"\n",
        "        # YOUR CODE HERE\n",
        "        pass\n",
        "\n",
        "    def predict(self, x_test):\n",
        "        \"\"\"\n",
        "        Makes predictions on test data.\n",
        "\n",
        "        Args:\n",
        "            x_test (numpy.ndarray): Test input data.\n",
        "\n",
        "        Returns:\n",
        "            numpy.ndarray: Predicted output.\n",
        "        \"\"\"\n",
        "        # YOUR CODE HERE\n",
        "        pass\n",
        "\n",
        "# Example Usage (Test your implementation here)\n",
        "# Example: XOR problem\n",
        "X = np.array([[0, 0], [0, 1], [1, 0], [1, 1]])\n",
        "y = np.array([[0], [1], [1], [0]])\n",
        "\n",
        "# Create and train the neural network\n",
        "nn = NeuralNetwork([2, 4, 1], activation='sigmoid')\n",
        "nn.train(X, y, epochs=10000, learning_rate=0.1)\n",
        "\n",
        "# Make predictions\n",
        "predictions = nn.predict(X)\n",
        "print(\"Predictions:\", predictions)"
      ],
      "metadata": {
        "id": "NNl69X-Ytfuc"
      },
      "execution_count": null,
      "outputs": []
    }
  ]
}