{
  "cells": [
    {
      "cell_type": "code",
      "execution_count": null,
      "metadata": {
        "id": "JYTphiI2lqlY"
      },
      "outputs": [],
      "source": [
        "import numpy as np\n",
        "import pandas as pd\n",
        "import matplotlib.pyplot as plt\n",
        "import seaborn as sns\n",
        "from sklearn.svm import SVC\n",
        "from sklearn.model_selection import GridSearchCV\n",
        "import joblib\n",
        "import os\n",
        "\n",
        "# Apply the Seaborn style using set_theme\n",
        "sns.set_theme(style=\"darkgrid\")  # or any other Seaborn style like 'whitegrid', 'ticks' etc.\n",
        "sns.set_palette('husl') #You can still set your color palette if desired\n",
        "# Load reduced features and labels\n",
        "X_train = np.load(\"pca_data/X_bow_train_reduced.npy\")\n",
        "y_train = np.load(\"split_data/y_bow_train.npy\")\n",
        "# Focused parameter grid\n",
        "param_grid = {\n",
        "    'C': [0.1, 1, 10],  # Regularization parameter (logarithmic scale)\n",
        "    'kernel': ['rbf'],   # Focus on radial basis function kernel\n",
        "    'gamma': ['scale']   # Standard scaling for kernel coefficient\n",
        "}\n",
        "grid_search = GridSearchCV(\n",
        "    SVC(probability=True, random_state=42),\n",
        "    param_grid,\n",
        "    cv=5,\n",
        "    scoring='accuracy',\n",
        "    n_jobs=-1,\n",
        "    verbose=1\n",
        ")\n",
        "\n",
        "grid_search.fit(X_train, y_train)\n",
        "results = pd.DataFrame(grid_search.cv_results_)\n",
        "print(\"Best parameters:\", grid_search.best_params_)\n",
        "print(\"Best accuracy:\", grid_search.best_score_)\n",
        "\n"
      ]
    }
  ],
  "metadata": {
    "colab": {
      "provenance": []
    },
    "kernelspec": {
      "display_name": "Python 3",
      "language": "python",
      "name": "python3"
    },
    "language_info": {
      "codemirror_mode": {
        "name": "ipython",
        "version": 3
      },
      "file_extension": ".py",
      "mimetype": "text/x-python",
      "name": "python",
      "nbconvert_exporter": "python",
      "pygments_lexer": "ipython3",
      "version": "3.8.5"
    }
  },
  "nbformat": 4,
  "nbformat_minor": 0
}
