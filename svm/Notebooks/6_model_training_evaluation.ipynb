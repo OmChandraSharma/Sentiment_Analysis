{
  "cells": [
    {
      "cell_type": "markdown",
      "metadata": {
        "id": "gMMRmIAany5R"
      },
      "source": [
        "# SVM Model Training and Evaluation\n",
        "This notebook trains and evaluates Support Vector Machine (SVM) models for sentiment classification using both TF-IDF and Bag-of-Words features."
      ]
    },
    {
      "cell_type": "code",
      "execution_count": null,
      "metadata": {
        "id": "zbVswvj1ny5b"
      },
      "outputs": [],
      "source": [
        "# Import required libraries\n",
        "import numpy as np\n",
        "import os\n",
        "import matplotlib.pyplot as plt\n",
        "import seaborn as sns\n",
        "from sklearn.svm import SVC\n",
        "from sklearn.metrics import classification_report, accuracy_score, confusion_matrix\n",
        "import joblib\n",
        "from google.colab import drive\n",
        "# Mount Google Drive\n",
        "drive.mount('/content/drive')\n",
        "\n",
        "# Paths\n",
        "pca_dir = 'pca_data'\n",
        "label_dir = 'split_data'\n",
        "\n",
        "# Load reduced TF-IDF and BoW features\n",
        "X_tfidf_train = np.load(f\"{pca_dir}/X_tfidf_train_reduced.npy\")\n",
        "X_tfidf_test = np.load(f\"{pca_dir}/X_tfidf_test_reduced.npy\")\n",
        "X_bow_train = np.load(f\"{pca_dir}/X_bow_train_reduced.npy\")\n",
        "X_bow_test = np.load(f\"{pca_dir}/X_bow_test_reduced.npy\")\n",
        "\n",
        "# Load labels\n",
        "y_tfidf_train = np.load(f\"{label_dir}/y_tfidf_train.npy\")\n",
        "y_tfidf_test = np.load(f\"{label_dir}/y_tfidf_test.npy\")\n",
        "y_bow_train = np.load(f\"{label_dir}/y_bow_train.npy\")\n",
        "y_bow_test = np.load(f\"{label_dir}/y_bow_test.npy\")\n",
        "# Define helper for training & evaluating\n",
        "def train_evaluate_model(model, X_train, X_test, y_train, y_test, model_name, feature_type, color='Blues'):\n",
        "    model.fit(X_train, y_train)\n",
        "    y_pred = model.predict(X_test)\n",
        "    # Save model\n",
        "    filename = f\"{model_name.lower().replace(' ', '')}{feature_type.lower()}.pkl\"\n",
        "    joblib.dump(model, filename)\n",
        "    print(f\"Saved: {filename}\\n\")\n",
        "    acc = accuracy_score(y_test, y_pred)\n",
        "    print(f\"{model_name} using {feature_type}\")\n",
        "    print(\"Accuracy:\", acc)\n",
        "    print(\"Classification Report:\")\n",
        "    print(classification_report(y_test, y_pred))\n",
        "\n",
        "\n",
        "# SVM model with default parameters\n",
        "svm_model = SVC(random_state=42, probability=True)\n",
        "\n",
        "# Evaluate on both TF-IDF and BoW\n",
        "train_evaluate_model(svm_model, X_tfidf_train, X_tfidf_test, y_tfidf_train, y_tfidf_test, \"SVM\", \"TF-IDF\", color='Blues')\n",
        "train_evaluate_model(svm_model, X_bow_train, X_bow_test, y_bow_train, y_bow_test, \"SVM\", \"BoW\", color='Greens')\n"
      ]
    },
    {
      "cell_type": "markdown",
      "metadata": {
        "id": "dFpqw6vwny5o"
      },
      "source": [
        "## Results Analysis\n",
        "The SVM model performance will be compared between TF-IDF and Bag-of-Words features. Based on the accuracy scores and classification reports, we can determine which feature representation works better for our sentiment analysis task with SVM."
      ]
    }
  ],
  "metadata": {
    "colab": {
      "provenance": []
    },
    "kernelspec": {
      "display_name": "Python 3",
      "language": "python",
      "name": "python3"
    },
    "language_info": {
      "codemirror_mode": {
        "name": "ipython",
        "version": 3
      },
      "file_extension": ".py",
      "mimetype": "text/x-python",
      "name": "python",
      "nbconvert_exporter": "python",
      "pygments_lexer": "ipython3",
      "version": "3.8.5"
    }
  },
  "nbformat": 4,
  "nbformat_minor": 0
}
